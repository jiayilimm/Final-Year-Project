{
  "nbformat": 4,
  "nbformat_minor": 0,
  "metadata": {
    "accelerator": "GPU",
    "colab": {
      "name": "Multi Class BERT Classification.ipynb",
      "provenance": [],
      "collapsed_sections": []
    },
    "kernelspec": {
      "display_name": "Python 3",
      "name": "python3"
    },
    "widgets": {
      "application/vnd.jupyter.widget-state+json": {
        "65953c0188b44c9f82610af99613a9b6": {
          "model_module": "@jupyter-widgets/controls",
          "model_name": "HBoxModel",
          "state": {
            "_view_name": "HBoxView",
            "_dom_classes": [],
            "_model_name": "HBoxModel",
            "_view_module": "@jupyter-widgets/controls",
            "_model_module_version": "1.5.0",
            "_view_count": null,
            "_view_module_version": "1.5.0",
            "box_style": "",
            "layout": "IPY_MODEL_c49b041526d74b89a48ccbc8834527b9",
            "_model_module": "@jupyter-widgets/controls",
            "children": [
              "IPY_MODEL_53d3cb5c9c12405a8f74e50a3d26e03a",
              "IPY_MODEL_cb28f079680a41b881f10e433e800c19"
            ]
          }
        },
        "c49b041526d74b89a48ccbc8834527b9": {
          "model_module": "@jupyter-widgets/base",
          "model_name": "LayoutModel",
          "state": {
            "_view_name": "LayoutView",
            "grid_template_rows": null,
            "right": null,
            "justify_content": null,
            "_view_module": "@jupyter-widgets/base",
            "overflow": null,
            "_model_module_version": "1.2.0",
            "_view_count": null,
            "flex_flow": null,
            "width": null,
            "min_width": null,
            "border": null,
            "align_items": null,
            "bottom": null,
            "_model_module": "@jupyter-widgets/base",
            "top": null,
            "grid_column": null,
            "overflow_y": null,
            "overflow_x": null,
            "grid_auto_flow": null,
            "grid_area": null,
            "grid_template_columns": null,
            "flex": null,
            "_model_name": "LayoutModel",
            "justify_items": null,
            "grid_row": null,
            "max_height": null,
            "align_content": null,
            "visibility": null,
            "align_self": null,
            "height": null,
            "min_height": null,
            "padding": null,
            "grid_auto_rows": null,
            "grid_gap": null,
            "max_width": null,
            "order": null,
            "_view_module_version": "1.2.0",
            "grid_template_areas": null,
            "object_position": null,
            "object_fit": null,
            "grid_auto_columns": null,
            "margin": null,
            "display": null,
            "left": null
          }
        },
        "53d3cb5c9c12405a8f74e50a3d26e03a": {
          "model_module": "@jupyter-widgets/controls",
          "model_name": "FloatProgressModel",
          "state": {
            "_view_name": "ProgressView",
            "style": "IPY_MODEL_cb3dea03d4be42e8b6c9809adfb9ac4a",
            "_dom_classes": [],
            "description": "100%",
            "_model_name": "FloatProgressModel",
            "bar_style": "success",
            "max": 1893,
            "_view_module": "@jupyter-widgets/controls",
            "_model_module_version": "1.5.0",
            "value": 1893,
            "_view_count": null,
            "_view_module_version": "1.5.0",
            "orientation": "horizontal",
            "min": 0,
            "description_tooltip": null,
            "_model_module": "@jupyter-widgets/controls",
            "layout": "IPY_MODEL_66af108ea909459ebe7e6fe93f4a7e68"
          }
        },
        "cb28f079680a41b881f10e433e800c19": {
          "model_module": "@jupyter-widgets/controls",
          "model_name": "HTMLModel",
          "state": {
            "_view_name": "HTMLView",
            "style": "IPY_MODEL_856b9747d7f44d0bb89aa87507f539c7",
            "_dom_classes": [],
            "description": "",
            "_model_name": "HTMLModel",
            "placeholder": "​",
            "_view_module": "@jupyter-widgets/controls",
            "_model_module_version": "1.5.0",
            "value": " 1893/1893 [00:01&lt;00:00, 1085.25it/s]",
            "_view_count": null,
            "_view_module_version": "1.5.0",
            "description_tooltip": null,
            "_model_module": "@jupyter-widgets/controls",
            "layout": "IPY_MODEL_cd7f0423ce9a464bb06fd1bb1a5001e3"
          }
        },
        "cb3dea03d4be42e8b6c9809adfb9ac4a": {
          "model_module": "@jupyter-widgets/controls",
          "model_name": "ProgressStyleModel",
          "state": {
            "_view_name": "StyleView",
            "_model_name": "ProgressStyleModel",
            "description_width": "initial",
            "_view_module": "@jupyter-widgets/base",
            "_model_module_version": "1.5.0",
            "_view_count": null,
            "_view_module_version": "1.2.0",
            "bar_color": null,
            "_model_module": "@jupyter-widgets/controls"
          }
        },
        "66af108ea909459ebe7e6fe93f4a7e68": {
          "model_module": "@jupyter-widgets/base",
          "model_name": "LayoutModel",
          "state": {
            "_view_name": "LayoutView",
            "grid_template_rows": null,
            "right": null,
            "justify_content": null,
            "_view_module": "@jupyter-widgets/base",
            "overflow": null,
            "_model_module_version": "1.2.0",
            "_view_count": null,
            "flex_flow": null,
            "width": null,
            "min_width": null,
            "border": null,
            "align_items": null,
            "bottom": null,
            "_model_module": "@jupyter-widgets/base",
            "top": null,
            "grid_column": null,
            "overflow_y": null,
            "overflow_x": null,
            "grid_auto_flow": null,
            "grid_area": null,
            "grid_template_columns": null,
            "flex": null,
            "_model_name": "LayoutModel",
            "justify_items": null,
            "grid_row": null,
            "max_height": null,
            "align_content": null,
            "visibility": null,
            "align_self": null,
            "height": null,
            "min_height": null,
            "padding": null,
            "grid_auto_rows": null,
            "grid_gap": null,
            "max_width": null,
            "order": null,
            "_view_module_version": "1.2.0",
            "grid_template_areas": null,
            "object_position": null,
            "object_fit": null,
            "grid_auto_columns": null,
            "margin": null,
            "display": null,
            "left": null
          }
        },
        "856b9747d7f44d0bb89aa87507f539c7": {
          "model_module": "@jupyter-widgets/controls",
          "model_name": "DescriptionStyleModel",
          "state": {
            "_view_name": "StyleView",
            "_model_name": "DescriptionStyleModel",
            "description_width": "",
            "_view_module": "@jupyter-widgets/base",
            "_model_module_version": "1.5.0",
            "_view_count": null,
            "_view_module_version": "1.2.0",
            "_model_module": "@jupyter-widgets/controls"
          }
        },
        "cd7f0423ce9a464bb06fd1bb1a5001e3": {
          "model_module": "@jupyter-widgets/base",
          "model_name": "LayoutModel",
          "state": {
            "_view_name": "LayoutView",
            "grid_template_rows": null,
            "right": null,
            "justify_content": null,
            "_view_module": "@jupyter-widgets/base",
            "overflow": null,
            "_model_module_version": "1.2.0",
            "_view_count": null,
            "flex_flow": null,
            "width": null,
            "min_width": null,
            "border": null,
            "align_items": null,
            "bottom": null,
            "_model_module": "@jupyter-widgets/base",
            "top": null,
            "grid_column": null,
            "overflow_y": null,
            "overflow_x": null,
            "grid_auto_flow": null,
            "grid_area": null,
            "grid_template_columns": null,
            "flex": null,
            "_model_name": "LayoutModel",
            "justify_items": null,
            "grid_row": null,
            "max_height": null,
            "align_content": null,
            "visibility": null,
            "align_self": null,
            "height": null,
            "min_height": null,
            "padding": null,
            "grid_auto_rows": null,
            "grid_gap": null,
            "max_width": null,
            "order": null,
            "_view_module_version": "1.2.0",
            "grid_template_areas": null,
            "object_position": null,
            "object_fit": null,
            "grid_auto_columns": null,
            "margin": null,
            "display": null,
            "left": null
          }
        },
        "cad35e23511348aaba669fd03b7069a7": {
          "model_module": "@jupyter-widgets/controls",
          "model_name": "HBoxModel",
          "state": {
            "_view_name": "HBoxView",
            "_dom_classes": [],
            "_model_name": "HBoxModel",
            "_view_module": "@jupyter-widgets/controls",
            "_model_module_version": "1.5.0",
            "_view_count": null,
            "_view_module_version": "1.5.0",
            "box_style": "",
            "layout": "IPY_MODEL_062ab024b2bb4e15b2c59ca014b1d309",
            "_model_module": "@jupyter-widgets/controls",
            "children": [
              "IPY_MODEL_b202259c42d44da990146de3817f70e3",
              "IPY_MODEL_f685062011a7461bb5ec434f3ff098e1"
            ]
          }
        },
        "062ab024b2bb4e15b2c59ca014b1d309": {
          "model_module": "@jupyter-widgets/base",
          "model_name": "LayoutModel",
          "state": {
            "_view_name": "LayoutView",
            "grid_template_rows": null,
            "right": null,
            "justify_content": null,
            "_view_module": "@jupyter-widgets/base",
            "overflow": null,
            "_model_module_version": "1.2.0",
            "_view_count": null,
            "flex_flow": null,
            "width": null,
            "min_width": null,
            "border": null,
            "align_items": null,
            "bottom": null,
            "_model_module": "@jupyter-widgets/base",
            "top": null,
            "grid_column": null,
            "overflow_y": null,
            "overflow_x": null,
            "grid_auto_flow": null,
            "grid_area": null,
            "grid_template_columns": null,
            "flex": null,
            "_model_name": "LayoutModel",
            "justify_items": null,
            "grid_row": null,
            "max_height": null,
            "align_content": null,
            "visibility": null,
            "align_self": null,
            "height": null,
            "min_height": null,
            "padding": null,
            "grid_auto_rows": null,
            "grid_gap": null,
            "max_width": null,
            "order": null,
            "_view_module_version": "1.2.0",
            "grid_template_areas": null,
            "object_position": null,
            "object_fit": null,
            "grid_auto_columns": null,
            "margin": null,
            "display": null,
            "left": null
          }
        },
        "b202259c42d44da990146de3817f70e3": {
          "model_module": "@jupyter-widgets/controls",
          "model_name": "FloatProgressModel",
          "state": {
            "_view_name": "ProgressView",
            "style": "IPY_MODEL_2073de3d00e4422cbdee01ea65cbd064",
            "_dom_classes": [],
            "description": "100%",
            "_model_name": "FloatProgressModel",
            "bar_style": "success",
            "max": 211,
            "_view_module": "@jupyter-widgets/controls",
            "_model_module_version": "1.5.0",
            "value": 211,
            "_view_count": null,
            "_view_module_version": "1.5.0",
            "orientation": "horizontal",
            "min": 0,
            "description_tooltip": null,
            "_model_module": "@jupyter-widgets/controls",
            "layout": "IPY_MODEL_43963bf99e914110bcb1d77811bcaacd"
          }
        },
        "f685062011a7461bb5ec434f3ff098e1": {
          "model_module": "@jupyter-widgets/controls",
          "model_name": "HTMLModel",
          "state": {
            "_view_name": "HTMLView",
            "style": "IPY_MODEL_53a11439e37341f69b4a30abe41308fe",
            "_dom_classes": [],
            "description": "",
            "_model_name": "HTMLModel",
            "placeholder": "​",
            "_view_module": "@jupyter-widgets/controls",
            "_model_module_version": "1.5.0",
            "value": " 211/211 [00:00&lt;00:00, 1035.30it/s]",
            "_view_count": null,
            "_view_module_version": "1.5.0",
            "description_tooltip": null,
            "_model_module": "@jupyter-widgets/controls",
            "layout": "IPY_MODEL_186d4ac03aca42c2bf71e95d36979c2d"
          }
        },
        "2073de3d00e4422cbdee01ea65cbd064": {
          "model_module": "@jupyter-widgets/controls",
          "model_name": "ProgressStyleModel",
          "state": {
            "_view_name": "StyleView",
            "_model_name": "ProgressStyleModel",
            "description_width": "initial",
            "_view_module": "@jupyter-widgets/base",
            "_model_module_version": "1.5.0",
            "_view_count": null,
            "_view_module_version": "1.2.0",
            "bar_color": null,
            "_model_module": "@jupyter-widgets/controls"
          }
        },
        "43963bf99e914110bcb1d77811bcaacd": {
          "model_module": "@jupyter-widgets/base",
          "model_name": "LayoutModel",
          "state": {
            "_view_name": "LayoutView",
            "grid_template_rows": null,
            "right": null,
            "justify_content": null,
            "_view_module": "@jupyter-widgets/base",
            "overflow": null,
            "_model_module_version": "1.2.0",
            "_view_count": null,
            "flex_flow": null,
            "width": null,
            "min_width": null,
            "border": null,
            "align_items": null,
            "bottom": null,
            "_model_module": "@jupyter-widgets/base",
            "top": null,
            "grid_column": null,
            "overflow_y": null,
            "overflow_x": null,
            "grid_auto_flow": null,
            "grid_area": null,
            "grid_template_columns": null,
            "flex": null,
            "_model_name": "LayoutModel",
            "justify_items": null,
            "grid_row": null,
            "max_height": null,
            "align_content": null,
            "visibility": null,
            "align_self": null,
            "height": null,
            "min_height": null,
            "padding": null,
            "grid_auto_rows": null,
            "grid_gap": null,
            "max_width": null,
            "order": null,
            "_view_module_version": "1.2.0",
            "grid_template_areas": null,
            "object_position": null,
            "object_fit": null,
            "grid_auto_columns": null,
            "margin": null,
            "display": null,
            "left": null
          }
        },
        "53a11439e37341f69b4a30abe41308fe": {
          "model_module": "@jupyter-widgets/controls",
          "model_name": "DescriptionStyleModel",
          "state": {
            "_view_name": "StyleView",
            "_model_name": "DescriptionStyleModel",
            "description_width": "",
            "_view_module": "@jupyter-widgets/base",
            "_model_module_version": "1.5.0",
            "_view_count": null,
            "_view_module_version": "1.2.0",
            "_model_module": "@jupyter-widgets/controls"
          }
        },
        "186d4ac03aca42c2bf71e95d36979c2d": {
          "model_module": "@jupyter-widgets/base",
          "model_name": "LayoutModel",
          "state": {
            "_view_name": "LayoutView",
            "grid_template_rows": null,
            "right": null,
            "justify_content": null,
            "_view_module": "@jupyter-widgets/base",
            "overflow": null,
            "_model_module_version": "1.2.0",
            "_view_count": null,
            "flex_flow": null,
            "width": null,
            "min_width": null,
            "border": null,
            "align_items": null,
            "bottom": null,
            "_model_module": "@jupyter-widgets/base",
            "top": null,
            "grid_column": null,
            "overflow_y": null,
            "overflow_x": null,
            "grid_auto_flow": null,
            "grid_area": null,
            "grid_template_columns": null,
            "flex": null,
            "_model_name": "LayoutModel",
            "justify_items": null,
            "grid_row": null,
            "max_height": null,
            "align_content": null,
            "visibility": null,
            "align_self": null,
            "height": null,
            "min_height": null,
            "padding": null,
            "grid_auto_rows": null,
            "grid_gap": null,
            "max_width": null,
            "order": null,
            "_view_module_version": "1.2.0",
            "grid_template_areas": null,
            "object_position": null,
            "object_fit": null,
            "grid_auto_columns": null,
            "margin": null,
            "display": null,
            "left": null
          }
        }
      }
    }
  },
  "cells": [
    {
      "cell_type": "code",
      "metadata": {
        "id": "KqFDAbtm3Me8"
      },
      "source": [
        "%matplotlib inline\n",
        "import matplotlib.pyplot as plt\n",
        "import pandas as pd\n",
        "import numpy as np\n",
        "import tensorflow as tf\n",
        "from tensorflow.keras.preprocessing import sequence\n",
        "from tensorflow.keras.preprocessing.text import Tokenizer\n",
        "from tensorflow.keras.optimizers import Adam\n",
        "from sklearn.model_selection import train_test_split\n",
        "from sklearn.metrics import confusion_matrix\n",
        "import pylab as pl\n",
        "import seaborn as sns"
      ],
      "execution_count": null,
      "outputs": []
    },
    {
      "cell_type": "code",
      "metadata": {
        "id": "D5pwxyBU3P2Z"
      },
      "source": [
        "#Define test and train set\n",
        "df = pd.read_csv(\"classification.csv\")"
      ],
      "execution_count": null,
      "outputs": []
    },
    {
      "cell_type": "code",
      "metadata": {
        "colab": {
          "base_uri": "https://localhost:8080/",
          "height": 655
        },
        "id": "SG7MGJ0t3RlN",
        "outputId": "62a11323-5d40-4754-f8b2-203417f32919"
      },
      "source": [
        "#See how training set looks like\n",
        "df.head(5)"
      ],
      "execution_count": null,
      "outputs": [
        {
          "output_type": "execute_result",
          "data": {
            "text/html": [
              "<div>\n",
              "<style scoped>\n",
              "    .dataframe tbody tr th:only-of-type {\n",
              "        vertical-align: middle;\n",
              "    }\n",
              "\n",
              "    .dataframe tbody tr th {\n",
              "        vertical-align: top;\n",
              "    }\n",
              "\n",
              "    .dataframe thead th {\n",
              "        text-align: right;\n",
              "    }\n",
              "</style>\n",
              "<table border=\"1\" class=\"dataframe\">\n",
              "  <thead>\n",
              "    <tr style=\"text-align: right;\">\n",
              "      <th></th>\n",
              "      <th>event</th>\n",
              "      <th>url</th>\n",
              "      <th>date</th>\n",
              "      <th>title</th>\n",
              "      <th>sentence</th>\n",
              "      <th>Deaths</th>\n",
              "      <th>Injury</th>\n",
              "      <th>Location</th>\n",
              "      <th>Date</th>\n",
              "      <th>Time</th>\n",
              "    </tr>\n",
              "  </thead>\n",
              "  <tbody>\n",
              "    <tr>\n",
              "      <th>0</th>\n",
              "      <td>assault</td>\n",
              "      <td>https://www.pennlive.com/news/2020/09/armed-an...</td>\n",
              "      <td>2020-09-01</td>\n",
              "      <td>‘Armed and dangerous’ man with ties to Carlisl...</td>\n",
              "      <td>A person not identified by police had suffered...</td>\n",
              "      <td>0</td>\n",
              "      <td>1</td>\n",
              "      <td>0</td>\n",
              "      <td>0</td>\n",
              "      <td>0</td>\n",
              "    </tr>\n",
              "    <tr>\n",
              "      <th>1</th>\n",
              "      <td>assault</td>\n",
              "      <td>https://www.pennlive.com/news/2020/09/armed-an...</td>\n",
              "      <td>2020-09-01</td>\n",
              "      <td>‘Armed and dangerous’ man with ties to Carlisl...</td>\n",
              "      <td>Officers went to the first block of West Willo...</td>\n",
              "      <td>0</td>\n",
              "      <td>0</td>\n",
              "      <td>1</td>\n",
              "      <td>1</td>\n",
              "      <td>1</td>\n",
              "    </tr>\n",
              "    <tr>\n",
              "      <th>2</th>\n",
              "      <td>assault</td>\n",
              "      <td>https://www.pennlive.com/news/2020/09/armed-an...</td>\n",
              "      <td>2020-09-01</td>\n",
              "      <td>‘Armed and dangerous’ man with ties to Carlisl...</td>\n",
              "      <td>Police are looking for a man they say was invo...</td>\n",
              "      <td>0</td>\n",
              "      <td>0</td>\n",
              "      <td>1</td>\n",
              "      <td>1</td>\n",
              "      <td>1</td>\n",
              "    </tr>\n",
              "    <tr>\n",
              "      <th>3</th>\n",
              "      <td>hurricane</td>\n",
              "      <td>https://www.wdtn.com/news/i-was-scared-for-him...</td>\n",
              "      <td>2020-09-01</td>\n",
              "      <td>‘I was scared for him’: Louisiana woman loses ...</td>\n",
              "      <td>Breaux, of Lake Charles, was forced to go to a...</td>\n",
              "      <td>0</td>\n",
              "      <td>0</td>\n",
              "      <td>1</td>\n",
              "      <td>0</td>\n",
              "      <td>0</td>\n",
              "    </tr>\n",
              "    <tr>\n",
              "      <th>4</th>\n",
              "      <td>unrest</td>\n",
              "      <td>https://www.thedailybeast.com/family-protests-...</td>\n",
              "      <td>2020-09-01</td>\n",
              "      <td>‘I’m Sad, I’m Mad’: L.A. Reels After Deputy Ki...</td>\n",
              "      <td>Ahmira Irene Roberson, a 22-year-old neighbor,...</td>\n",
              "      <td>0</td>\n",
              "      <td>0</td>\n",
              "      <td>0</td>\n",
              "      <td>1</td>\n",
              "      <td>1</td>\n",
              "    </tr>\n",
              "  </tbody>\n",
              "</table>\n",
              "</div>"
            ],
            "text/plain": [
              "       event                                                url  ... Date Time\n",
              "0    assault  https://www.pennlive.com/news/2020/09/armed-an...  ...    0    0\n",
              "1    assault  https://www.pennlive.com/news/2020/09/armed-an...  ...    1    1\n",
              "2    assault  https://www.pennlive.com/news/2020/09/armed-an...  ...    1    1\n",
              "3  hurricane  https://www.wdtn.com/news/i-was-scared-for-him...  ...    0    0\n",
              "4     unrest  https://www.thedailybeast.com/family-protests-...  ...    1    1\n",
              "\n",
              "[5 rows x 10 columns]"
            ]
          },
          "metadata": {
            "tags": []
          },
          "execution_count": 3
        }
      ]
    },
    {
      "cell_type": "code",
      "metadata": {
        "colab": {
          "base_uri": "https://localhost:8080/"
        },
        "id": "pMeoouEr3aJ4",
        "outputId": "4dd5fcd3-82ed-4ffd-9bac-2a98bc678e61"
      },
      "source": [
        "#Inspect Data for Train Set\n",
        "print(\"Columns x Rows\", df.shape)"
      ],
      "execution_count": null,
      "outputs": [
        {
          "output_type": "stream",
          "text": [
            "Columns x Rows (2104, 10)\n"
          ],
          "name": "stdout"
        }
      ]
    },
    {
      "cell_type": "code",
      "metadata": {
        "id": "kfLnxokn3cyG"
      },
      "source": [
        "#divide our training data into features X and label Y\n",
        "train, test = train_test_split(df, test_size=0.1, random_state=42)\n",
        "X_train = train['sentence'] #will be used to train our model on\n",
        "X_test = test['sentence'] #will be used to predict the output labels to see how well our model has trained\n",
        "y_train = train[['Deaths','Injury','Location','Date','Time']].values\n",
        "y_test = test[['Deaths','Injury','Location','Date','Time']].values"
      ],
      "execution_count": null,
      "outputs": []
    },
    {
      "cell_type": "code",
      "metadata": {
        "id": "ts9WhCjkD0Ih"
      },
      "source": [
        "punct = '!\"#$%&\\'()*+,-./:;<=>?@[\\]^_`{|}~“”'"
      ],
      "execution_count": null,
      "outputs": []
    },
    {
      "cell_type": "code",
      "metadata": {
        "id": "1fwYDQG5b6CP"
      },
      "source": [
        "def clean_text(txt):\n",
        "  txt = txt.strip() #remove additional white space before and after end of sentence\n",
        "  # txt = txt.lower()\n",
        "  txt = txt.replace(\"'s\", \"\") # remove apostrophe s\n",
        "  txt = txt.replace(\"\\?a.m.\", \"am\") # replace a.m.\n",
        "  txt = txt.replace(\"\\?p.m.\", \"pm\") # replace p.m.\n",
        "  text = \"\".join([c for c in txt if c not in punct]) #remove punct\n",
        "  text = text.replace(u'\\u2014', \"\")\n",
        "  new_text = text.replace(r\"\\s+\", \" \") #remove additional space\n",
        "\n",
        "  return new_text\n",
        "  \n",
        "x_train, x_test = [], []\n",
        "for sentence in X_train:\n",
        "  x_train.append(clean_text(sentence))\n",
        "\n",
        "for sentence in X_test:\n",
        "  x_test.append(clean_text(sentence))"
      ],
      "execution_count": null,
      "outputs": []
    },
    {
      "cell_type": "code",
      "metadata": {
        "colab": {
          "base_uri": "https://localhost:8080/",
          "height": 294
        },
        "id": "loOoTBCe3qlg",
        "outputId": "fd810b5f-a4ea-4bfe-87a4-fb6601b97c37"
      },
      "source": [
        "#Examine if data is properly split (i.e., is 90% of 153163)\n",
        "train.describe()"
      ],
      "execution_count": null,
      "outputs": [
        {
          "output_type": "execute_result",
          "data": {
            "text/html": [
              "<div>\n",
              "<style scoped>\n",
              "    .dataframe tbody tr th:only-of-type {\n",
              "        vertical-align: middle;\n",
              "    }\n",
              "\n",
              "    .dataframe tbody tr th {\n",
              "        vertical-align: top;\n",
              "    }\n",
              "\n",
              "    .dataframe thead th {\n",
              "        text-align: right;\n",
              "    }\n",
              "</style>\n",
              "<table border=\"1\" class=\"dataframe\">\n",
              "  <thead>\n",
              "    <tr style=\"text-align: right;\">\n",
              "      <th></th>\n",
              "      <th>Deaths</th>\n",
              "      <th>Injury</th>\n",
              "      <th>Location</th>\n",
              "      <th>Date</th>\n",
              "      <th>Time</th>\n",
              "    </tr>\n",
              "  </thead>\n",
              "  <tbody>\n",
              "    <tr>\n",
              "      <th>count</th>\n",
              "      <td>1893.000000</td>\n",
              "      <td>1893.000000</td>\n",
              "      <td>1893.000000</td>\n",
              "      <td>1893.000000</td>\n",
              "      <td>1893.00000</td>\n",
              "    </tr>\n",
              "    <tr>\n",
              "      <th>mean</th>\n",
              "      <td>0.341786</td>\n",
              "      <td>0.447438</td>\n",
              "      <td>0.590069</td>\n",
              "      <td>0.347068</td>\n",
              "      <td>0.29477</td>\n",
              "    </tr>\n",
              "    <tr>\n",
              "      <th>std</th>\n",
              "      <td>0.474433</td>\n",
              "      <td>0.497361</td>\n",
              "      <td>0.491951</td>\n",
              "      <td>0.476163</td>\n",
              "      <td>0.45606</td>\n",
              "    </tr>\n",
              "    <tr>\n",
              "      <th>min</th>\n",
              "      <td>0.000000</td>\n",
              "      <td>0.000000</td>\n",
              "      <td>0.000000</td>\n",
              "      <td>0.000000</td>\n",
              "      <td>0.00000</td>\n",
              "    </tr>\n",
              "    <tr>\n",
              "      <th>25%</th>\n",
              "      <td>0.000000</td>\n",
              "      <td>0.000000</td>\n",
              "      <td>0.000000</td>\n",
              "      <td>0.000000</td>\n",
              "      <td>0.00000</td>\n",
              "    </tr>\n",
              "    <tr>\n",
              "      <th>50%</th>\n",
              "      <td>0.000000</td>\n",
              "      <td>0.000000</td>\n",
              "      <td>1.000000</td>\n",
              "      <td>0.000000</td>\n",
              "      <td>0.00000</td>\n",
              "    </tr>\n",
              "    <tr>\n",
              "      <th>75%</th>\n",
              "      <td>1.000000</td>\n",
              "      <td>1.000000</td>\n",
              "      <td>1.000000</td>\n",
              "      <td>1.000000</td>\n",
              "      <td>1.00000</td>\n",
              "    </tr>\n",
              "    <tr>\n",
              "      <th>max</th>\n",
              "      <td>1.000000</td>\n",
              "      <td>1.000000</td>\n",
              "      <td>1.000000</td>\n",
              "      <td>1.000000</td>\n",
              "      <td>1.00000</td>\n",
              "    </tr>\n",
              "  </tbody>\n",
              "</table>\n",
              "</div>"
            ],
            "text/plain": [
              "            Deaths       Injury     Location         Date        Time\n",
              "count  1893.000000  1893.000000  1893.000000  1893.000000  1893.00000\n",
              "mean      0.341786     0.447438     0.590069     0.347068     0.29477\n",
              "std       0.474433     0.497361     0.491951     0.476163     0.45606\n",
              "min       0.000000     0.000000     0.000000     0.000000     0.00000\n",
              "25%       0.000000     0.000000     0.000000     0.000000     0.00000\n",
              "50%       0.000000     0.000000     1.000000     0.000000     0.00000\n",
              "75%       1.000000     1.000000     1.000000     1.000000     1.00000\n",
              "max       1.000000     1.000000     1.000000     1.000000     1.00000"
            ]
          },
          "metadata": {
            "tags": []
          },
          "execution_count": 8
        }
      ]
    },
    {
      "cell_type": "markdown",
      "metadata": {
        "id": "ddHYemOO4H1E"
      },
      "source": [
        "Load BERT Tokenizer"
      ]
    },
    {
      "cell_type": "code",
      "metadata": {
        "id": "JT3cW1wI4KF5"
      },
      "source": [
        "%pip install -q transformers==2.11.0"
      ],
      "execution_count": null,
      "outputs": []
    },
    {
      "cell_type": "code",
      "metadata": {
        "id": "DmlXu3584L2I"
      },
      "source": [
        "#Import bert-base-cased\n",
        "from transformers import BertTokenizer\n",
        "\n",
        "model_name = \"bert-base-cased\"\n",
        "tokenizer = BertTokenizer.from_pretrained(model_name)"
      ],
      "execution_count": null,
      "outputs": []
    },
    {
      "cell_type": "code",
      "metadata": {
        "id": "4V1zzZkB4RyF"
      },
      "source": [
        "#Write function\n",
        "import numpy as np\n",
        "from tqdm.notebook import tqdm \n",
        "\n",
        "def encode_dataset(tokenizer, text_sequences, max_length):\n",
        "    token_ids = np.zeros(shape=(len(text_sequences), max_length),\n",
        "                         dtype=np.int32)\n",
        "    for i, text_sequence in enumerate(tqdm(text_sequences)):\n",
        "        #print(i)\n",
        "        encoded = tokenizer.encode(text_sequence, max_length = 334, pad_to_max_length=True)\n",
        "        token_ids[i, 0:len(encoded)] = encoded\n",
        "    attention_masks = (token_ids != 0).astype(np.int32)\n",
        "    return {\"input_ids\": token_ids, \"attention_masks\": attention_masks}"
      ],
      "execution_count": null,
      "outputs": []
    },
    {
      "cell_type": "code",
      "metadata": {
        "colab": {
          "base_uri": "https://localhost:8080/",
          "height": 116,
          "referenced_widgets": [
            "65953c0188b44c9f82610af99613a9b6",
            "c49b041526d74b89a48ccbc8834527b9",
            "53d3cb5c9c12405a8f74e50a3d26e03a",
            "cb28f079680a41b881f10e433e800c19",
            "cb3dea03d4be42e8b6c9809adfb9ac4a",
            "66af108ea909459ebe7e6fe93f4a7e68",
            "856b9747d7f44d0bb89aa87507f539c7",
            "cd7f0423ce9a464bb06fd1bb1a5001e3",
            "cad35e23511348aaba669fd03b7069a7",
            "062ab024b2bb4e15b2c59ca014b1d309",
            "b202259c42d44da990146de3817f70e3",
            "f685062011a7461bb5ec434f3ff098e1",
            "2073de3d00e4422cbdee01ea65cbd064",
            "43963bf99e914110bcb1d77811bcaacd",
            "53a11439e37341f69b4a30abe41308fe",
            "186d4ac03aca42c2bf71e95d36979c2d"
          ]
        },
        "id": "BdpH22Vw4kLc",
        "outputId": "2402d171-73f0-451b-fd8e-ad2fc2158510"
      },
      "source": [
        "#Tokenize all dataset needed for train, test and validation\n",
        "encoded_train = encode_dataset(tokenizer, x_train, 334)\n",
        "# encoded_val = encode_dataset(tokenizer, val_df[\"sentence\"], 334)\n",
        "encoded_test = encode_dataset(tokenizer, x_test, 334)"
      ],
      "execution_count": null,
      "outputs": [
        {
          "output_type": "display_data",
          "data": {
            "application/vnd.jupyter.widget-view+json": {
              "model_id": "65953c0188b44c9f82610af99613a9b6",
              "version_minor": 0,
              "version_major": 2
            },
            "text/plain": [
              "HBox(children=(FloatProgress(value=0.0, max=1893.0), HTML(value='')))"
            ]
          },
          "metadata": {
            "tags": []
          }
        },
        {
          "output_type": "stream",
          "text": [
            "\n"
          ],
          "name": "stdout"
        },
        {
          "output_type": "display_data",
          "data": {
            "application/vnd.jupyter.widget-view+json": {
              "model_id": "cad35e23511348aaba669fd03b7069a7",
              "version_minor": 0,
              "version_major": 2
            },
            "text/plain": [
              "HBox(children=(FloatProgress(value=0.0, max=211.0), HTML(value='')))"
            ]
          },
          "metadata": {
            "tags": []
          }
        },
        {
          "output_type": "stream",
          "text": [
            "\n"
          ],
          "name": "stdout"
        }
      ]
    },
    {
      "cell_type": "code",
      "metadata": {
        "colab": {
          "base_uri": "https://localhost:8080/"
        },
        "id": "koe9FT73mvTk",
        "outputId": "c46796f1-3224-40d1-a87a-c640e2f310d5"
      },
      "source": [
        "encoded_train"
      ],
      "execution_count": null,
      "outputs": [
        {
          "output_type": "execute_result",
          "data": {
            "text/plain": [
              "{'attention_masks': array([[1, 1, 1, ..., 0, 0, 0],\n",
              "        [1, 1, 1, ..., 0, 0, 0],\n",
              "        [1, 1, 1, ..., 0, 0, 0],\n",
              "        ...,\n",
              "        [1, 1, 1, ..., 0, 0, 0],\n",
              "        [1, 1, 1, ..., 0, 0, 0],\n",
              "        [1, 1, 1, ..., 0, 0, 0]], dtype=int32),\n",
              " 'input_ids': array([[  101,  1109,  4497, ...,     0,     0,     0],\n",
              "        [  101, 26874,  1279, ...,     0,     0,     0],\n",
              "        [  101,  1109,  1590, ...,     0,     0,     0],\n",
              "        ...,\n",
              "        [  101,  1109,  1168, ...,     0,     0,     0],\n",
              "        [  101,  3284,  1132, ...,     0,     0,     0],\n",
              "        [  101,  1124,  1173, ...,     0,     0,     0]], dtype=int32)}"
            ]
          },
          "metadata": {
            "tags": []
          },
          "execution_count": 13
        }
      ]
    },
    {
      "cell_type": "markdown",
      "metadata": {
        "id": "gJ1ZxoWy41qh"
      },
      "source": [
        "Load BERT Model"
      ]
    },
    {
      "cell_type": "code",
      "metadata": {
        "colab": {
          "base_uri": "https://localhost:8080/"
        },
        "id": "9S6Nsy1V4uYx",
        "outputId": "00cca481-8a9e-45b9-9a52-23826425d3cd"
      },
      "source": [
        "from transformers import TFBertModel\n",
        "from tensorflow import keras\n",
        "from tensorflow.keras import Sequential\n",
        "from tensorflow.keras.layers import Flatten, Dense, Dropout\n",
        "from tensorflow.keras.models import Model\n",
        "\n",
        "# Generate Model Structure\n",
        "# the 2 inputs in data. See https://huggingface.co/transformers/model_doc/bert.html#tfbertmodel\n",
        "\"\"\"\n",
        "a list of varying length with one or several input Tensors IN THE ORDER given in the docstring: model([input_ids, attention_mask])\n",
        "\"\"\"\n",
        "input_ids = keras.Input(shape=(334,), dtype='int32', name='input_ids')\n",
        "attention_masks = keras.Input(shape=(334,), dtype=\"int32\", name='attention_masks')\n",
        "bert_base = TFBertModel.from_pretrained(\"bert-base-cased\")\n",
        "bert_base.trainable=False\n",
        "sequence_output, pooled_output = bert_base([input_ids, attention_masks])\n",
        "x = Dropout(0.1)(pooled_output)\n",
        "out = Dense(5, activation='sigmoid')(x)\n",
        "\n",
        "\n",
        "tmodel = Model(inputs=[input_ids, attention_masks], outputs=out)\n",
        "tmodel.compile(optimizer=tf.keras.optimizers.Adam(learning_rate=1e-2, epsilon=1e-08),\n",
        "                     loss=tf.keras.losses.BinaryCrossentropy(from_logits=True),\n",
        "                     metrics=['accuracy'])\n",
        "# tmodel.compile(optimizer='adam', \n",
        "#                loss=tf.keras.losses.BinaryCrossentropy(from_logits=True),\n",
        "#                metrics=['accuracy'])\n",
        "\n",
        "tmodel.summary()\n",
        "BATCH_SIZE = 128\n",
        "history = tmodel.fit(encoded_train,y_train,epochs=10,batch_size=BATCH_SIZE,validation_split = 0.1)"
      ],
      "execution_count": null,
      "outputs": [
        {
          "output_type": "stream",
          "text": [
            "Model: \"model\"\n",
            "__________________________________________________________________________________________________\n",
            "Layer (type)                    Output Shape         Param #     Connected to                     \n",
            "==================================================================================================\n",
            "input_ids (InputLayer)          [(None, 334)]        0                                            \n",
            "__________________________________________________________________________________________________\n",
            "attention_masks (InputLayer)    [(None, 334)]        0                                            \n",
            "__________________________________________________________________________________________________\n",
            "tf_bert_model (TFBertModel)     ((None, 334, 768), ( 108310272   input_ids[0][0]                  \n",
            "                                                                 attention_masks[0][0]            \n",
            "__________________________________________________________________________________________________\n",
            "dropout_37 (Dropout)            (None, 768)          0           tf_bert_model[0][1]              \n",
            "__________________________________________________________________________________________________\n",
            "dense (Dense)                   (None, 5)            3845        dropout_37[0][0]                 \n",
            "==================================================================================================\n",
            "Total params: 108,314,117\n",
            "Trainable params: 3,845\n",
            "Non-trainable params: 108,310,272\n",
            "__________________________________________________________________________________________________\n",
            "Epoch 1/10\n",
            "14/14 [==============================] - 64s 4s/step - loss: 1.1100 - accuracy: 0.2738 - val_loss: 0.8175 - val_accuracy: 0.1895\n",
            "Epoch 2/10\n",
            "14/14 [==============================] - 51s 4s/step - loss: 0.7460 - accuracy: 0.2418 - val_loss: 0.6504 - val_accuracy: 0.4053\n",
            "Epoch 3/10\n",
            "14/14 [==============================] - 51s 4s/step - loss: 0.6630 - accuracy: 0.3118 - val_loss: 0.6047 - val_accuracy: 0.2368\n",
            "Epoch 4/10\n",
            "14/14 [==============================] - 51s 4s/step - loss: 0.6166 - accuracy: 0.3358 - val_loss: 0.5897 - val_accuracy: 0.2684\n",
            "Epoch 5/10\n",
            "14/14 [==============================] - 51s 4s/step - loss: 0.6155 - accuracy: 0.3889 - val_loss: 0.5885 - val_accuracy: 0.2842\n",
            "Epoch 6/10\n",
            "14/14 [==============================] - 51s 4s/step - loss: 0.5938 - accuracy: 0.3747 - val_loss: 0.5777 - val_accuracy: 0.4421\n",
            "Epoch 7/10\n",
            "14/14 [==============================] - 51s 4s/step - loss: 0.5894 - accuracy: 0.4027 - val_loss: 0.5658 - val_accuracy: 0.3421\n",
            "Epoch 8/10\n",
            "14/14 [==============================] - 51s 4s/step - loss: 0.5846 - accuracy: 0.3795 - val_loss: 0.5545 - val_accuracy: 0.4053\n",
            "Epoch 9/10\n",
            "14/14 [==============================] - 51s 4s/step - loss: 0.5743 - accuracy: 0.4226 - val_loss: 0.5566 - val_accuracy: 0.4895\n",
            "Epoch 10/10\n",
            "14/14 [==============================] - 51s 4s/step - loss: 0.5635 - accuracy: 0.4478 - val_loss: 0.5637 - val_accuracy: 0.5421\n"
          ],
          "name": "stdout"
        }
      ]
    },
    {
      "cell_type": "code",
      "metadata": {
        "id": "3F5ZfaX7bgUG"
      },
      "source": [
        "from keras.utils.vis_utils import plot_model\n",
        "# plot_model(tmodel, to_file='BERT_Architecture.png', show_shapes=True, show_layer_names=True)"
      ],
      "execution_count": null,
      "outputs": []
    },
    {
      "cell_type": "code",
      "metadata": {
        "colab": {
          "base_uri": "https://localhost:8080/"
        },
        "id": "IFAgXWIm_DLc",
        "outputId": "6adc6080-0797-4cd2-bdba-9f25884ea04c"
      },
      "source": [
        "max(history.history['accuracy'])"
      ],
      "execution_count": null,
      "outputs": [
        {
          "output_type": "execute_result",
          "data": {
            "text/plain": [
              "0.4310041069984436"
            ]
          },
          "metadata": {
            "tags": []
          },
          "execution_count": 16
        }
      ]
    },
    {
      "cell_type": "code",
      "metadata": {
        "colab": {
          "base_uri": "https://localhost:8080/"
        },
        "id": "scB9T30y_FY8",
        "outputId": "1292cec0-2697-4a7a-9d92-1f803efb8b0b"
      },
      "source": [
        "max(history.history['val_accuracy'])"
      ],
      "execution_count": null,
      "outputs": [
        {
          "output_type": "execute_result",
          "data": {
            "text/plain": [
              "0.5421052575111389"
            ]
          },
          "metadata": {
            "tags": []
          },
          "execution_count": 17
        }
      ]
    },
    {
      "cell_type": "code",
      "metadata": {
        "colab": {
          "base_uri": "https://localhost:8080/",
          "height": 295
        },
        "id": "Esate1PjrP08",
        "outputId": "697b0131-37ee-4489-ef9e-8b3a616c4ad2"
      },
      "source": [
        "plt.plot(history.history['accuracy'])\n",
        "plt.plot(history.history['val_accuracy'])\n",
        "plt.title('model acc')\n",
        "plt.ylabel('acc')\n",
        "plt.xlabel('epoch')\n",
        "plt.legend(['train', 'val'], loc='upper left')\n",
        "plt.show()"
      ],
      "execution_count": null,
      "outputs": [
        {
          "output_type": "display_data",
          "data": {
            "image/png": "[encoded data removed]",
            "text/plain": [
              "<Figure size 432x288 with 1 Axes>"
            ]
          },
          "metadata": {
            "tags": [],
            "needs_background": "light"
          }
        }
      ]
    },
    {
      "cell_type": "code",
      "metadata": {
        "colab": {
          "base_uri": "https://localhost:8080/",
          "height": 295
        },
        "id": "yeyYsg0yrWpd",
        "outputId": "249549e0-5f0d-49d2-c5dc-ba0113bb43db"
      },
      "source": [
        "plt.plot(history.history['loss'])\n",
        "plt.plot(history.history['val_loss'])\n",
        "plt.title('model loss')\n",
        "plt.ylabel('loss')\n",
        "plt.xlabel('epoch')\n",
        "plt.legend(['train', 'val'], loc='upper left')\n",
        "plt.show()"
      ],
      "execution_count": null,
      "outputs": [
        {
          "output_type": "display_data",
          "data": {
            "image/png": "[encoded data removed]",
            "text/plain": [
              "<Figure size 432x288 with 1 Axes>"
            ]
          },
          "metadata": {
            "tags": [],
            "needs_background": "light"
          }
        }
      ]
    },
    {
      "cell_type": "code",
      "metadata": {
        "colab": {
          "base_uri": "https://localhost:8080/"
        },
        "id": "PMUBrLCuqVcO",
        "outputId": "28a0649a-9f3d-4203-c485-97a1fc46395b"
      },
      "source": [
        "results = tmodel.evaluate(encoded_test, y_test, batch_size=BATCH_SIZE)\n",
        "print(\"test loss, test acc:\", results)"
      ],
      "execution_count": null,
      "outputs": [
        {
          "output_type": "stream",
          "text": [
            "2/2 [==============================] - 5s 2s/step - loss: 0.5601 - accuracy: 0.5450\n",
            "test loss, test acc: [0.5600968599319458, 0.5450236797332764]\n"
          ],
          "name": "stdout"
        }
      ]
    },
    {
      "cell_type": "code",
      "metadata": {
        "colab": {
          "base_uri": "https://localhost:8080/"
        },
        "id": "tuEW00CBxfE9",
        "outputId": "4b4cb767-7ace-4010-dd88-dc3b2344648a"
      },
      "source": [
        "y_test[1:10]"
      ],
      "execution_count": null,
      "outputs": [
        {
          "output_type": "execute_result",
          "data": {
            "text/plain": [
              "array([[0, 1, 0, 0, 0],\n",
              "       [0, 1, 0, 0, 0],\n",
              "       [0, 0, 1, 1, 1],\n",
              "       [0, 0, 1, 1, 1],\n",
              "       [1, 0, 0, 0, 0],\n",
              "       [1, 0, 1, 0, 0],\n",
              "       [1, 0, 0, 0, 0],\n",
              "       [0, 0, 0, 0, 0],\n",
              "       [0, 1, 0, 0, 0]])"
            ]
          },
          "metadata": {
            "tags": []
          },
          "execution_count": 21
        }
      ]
    },
    {
      "cell_type": "code",
      "metadata": {
        "colab": {
          "base_uri": "https://localhost:8080/"
        },
        "id": "d2yw-nR15W5o",
        "outputId": "9d9e4083-e58e-4c1c-ed7b-8ec0246bf3e5"
      },
      "source": [
        "#Do prediction with trained model for evaluation\n",
        "predictions = tmodel.predict(encoded_test)\n",
        "predictions[1:10]"
      ],
      "execution_count": null,
      "outputs": [
        {
          "output_type": "execute_result",
          "data": {
            "text/plain": [
              "array([[0.35553598, 0.8122998 , 0.3309973 , 0.09804321, 0.06630464],\n",
              "       [0.40805832, 0.85138786, 0.18456316, 0.06810039, 0.02716101],\n",
              "       [0.32987487, 0.5058601 , 0.74146897, 0.501043  , 0.46371213],\n",
              "       [0.32728937, 0.49419907, 0.44769567, 0.18951987, 0.25624368],\n",
              "       [0.5672862 , 0.6774875 , 0.28102294, 0.1425746 , 0.10427115],\n",
              "       [0.38596156, 0.7440026 , 0.35947907, 0.18909605, 0.07891406],\n",
              "       [0.6924637 , 0.5428584 , 0.27686548, 0.12885167, 0.07643713],\n",
              "       [0.34515697, 0.8506655 , 0.16021986, 0.0567509 , 0.0289273 ],\n",
              "       [0.31618923, 0.62642497, 0.44207504, 0.23068208, 0.21301652]],\n",
              "      dtype=float32)"
            ]
          },
          "metadata": {
            "tags": []
          },
          "execution_count": 22
        }
      ]
    },
    {
      "cell_type": "code",
      "metadata": {
        "id": "WONf0AYHrsPC"
      },
      "source": [
        "# cm = confusion_matrix(y_test, predictions.round())\n",
        "# ax= plt.subplot()\n",
        "# sns.heatmap(cm, annot=True, ax = ax, fmt='.3g'); #annot=True to annotate cells\n",
        "# # labels, title and ticks\n",
        "# ax.set_xlabel('Predicted labels')\n",
        "# ax.set_ylabel('True labels')\n",
        "# ax.set_title('GloVe Confusion Matrix') \n",
        "# ax.xaxis.set_ticklabels(['Yes', 'No'])\n",
        "# ax.yaxis.set_ticklabels(['Yes', 'No'])"
      ],
      "execution_count": null,
      "outputs": []
    },
    {
      "cell_type": "code",
      "metadata": {
        "colab": {
          "base_uri": "https://localhost:8080/"
        },
        "id": "Ck-GCMW-dONR",
        "outputId": "c391df08-92ca-4a9e-f47b-883cfeab98cd"
      },
      "source": [
        "from sklearn.metrics import classification_report\n",
        "from sklearn.metrics import f1_score\n",
        "from sklearn.metrics import roc_auc_score\n",
        "print (\"Batch Size: \", BATCH_SIZE)\n",
        "print (\"BERT Classification report: \\n\", (classification_report(y_test, predictions.round())))\n",
        "print (\"F1 micro averaging:\",(f1_score(y_test, predictions.round(), average='micro')))"
      ],
      "execution_count": null,
      "outputs": [
        {
          "output_type": "stream",
          "text": [
            "Batch Size:  128\n",
            "BERT Classification report: \n",
            "               precision    recall  f1-score   support\n",
            "\n",
            "           0       0.75      0.66      0.70        80\n",
            "           1       0.47      0.93      0.62        91\n",
            "           2       0.85      0.65      0.74       112\n",
            "           3       0.62      0.07      0.13        71\n",
            "           4       1.00      0.02      0.03        61\n",
            "\n",
            "   micro avg       0.62      0.52      0.57       415\n",
            "   macro avg       0.74      0.47      0.44       415\n",
            "weighted avg       0.73      0.52      0.50       415\n",
            " samples avg       0.64      0.61      0.58       415\n",
            "\n",
            "F1 micro averaging: 0.5688073394495413\n"
          ],
          "name": "stdout"
        },
        {
          "output_type": "stream",
          "text": [
            "/usr/local/lib/python3.7/dist-packages/sklearn/metrics/_classification.py:1272: UndefinedMetricWarning: Precision and F-score are ill-defined and being set to 0.0 in samples with no predicted labels. Use `zero_division` parameter to control this behavior.\n",
            "  _warn_prf(average, modifier, msg_start, len(result))\n",
            "/usr/local/lib/python3.7/dist-packages/sklearn/metrics/_classification.py:1272: UndefinedMetricWarning: Recall and F-score are ill-defined and being set to 0.0 in samples with no true labels. Use `zero_division` parameter to control this behavior.\n",
            "  _warn_prf(average, modifier, msg_start, len(result))\n"
          ],
          "name": "stderr"
        }
      ]
    },
    {
      "cell_type": "code",
      "metadata": {
        "colab": {
          "base_uri": "https://localhost:8080/",
          "height": 55
        },
        "id": "Xqc-KP8gwWnx",
        "outputId": "93e609c8-db84-4d65-cda7-adcd9b43a4ae"
      },
      "source": [
        "from sklearn.metrics import multilabel_confusion_matrix\n",
        "vis_arr = np.asarray(multilabel_confusion_matrix(y_test, predictions.round()))\n",
        "labels = ['Deaths', 'Injury', 'Location', 'Date', 'Time']\n",
        "import seaborn as sns\n",
        "\n",
        "\n",
        "def print_confusion_matrix(confusion_matrix, axes, class_label, class_names, fontsize=14):\n",
        "\n",
        "    df_cm = pd.DataFrame(\n",
        "        confusion_matrix, index=class_names, columns=class_names,\n",
        "    )\n",
        "\n",
        "    try:\n",
        "        heatmap = sns.heatmap(df_cm, annot=True, fmt=\"d\", cbar=False, ax=axes)\n",
        "    except ValueError:\n",
        "        raise ValueError(\"Confusion matrix values must be integers.\")\n",
        "    heatmap.yaxis.set_ticklabels(heatmap.yaxis.get_ticklabels(), rotation=0, ha='right', fontsize=fontsize)\n",
        "    heatmap.xaxis.set_ticklabels(heatmap.xaxis.get_ticklabels(), rotation=0, ha='right', fontsize=fontsize)\n",
        "    axes.set_ylabel('True label')\n",
        "    axes.set_xlabel('Predicted label')\n",
        "    axes.set_title(\"Confusion Matrix for the class - \" + class_label)\n",
        "\n",
        "fig, ax = plt.subplots(5, 1, figsize=(5, 20))\n",
        "    \n",
        "for axes, cfs_matrix, label in zip(ax.flatten(), vis_arr, labels):\n",
        "    print_confusion_matrix(cfs_matrix, axes, label, [\"N\", \"Y\"])\n",
        "\n",
        "fig.tight_layout()\n",
        "plt.show()"
      ],
      "execution_count": null,
      "outputs": [
        {
          "output_type": "display_data",
          "data": {
            "image/png": "[encoded data removed]",
            "text/plain": [
              "<Figure size 360x1440 with 5 Axes>"
            ]
          },
          "metadata": {
            "tags": [],
            "needs_background": "light"
          }
        }
      ]
    },
    {
      "cell_type": "code",
      "metadata": {
        "id": "hygPi8YF-h43"
      },
      "source": [
        "# tmodel.save_weights('BERT_B64_10.h5')"
      ],
      "execution_count": null,
      "outputs": []
    },
    {
      "cell_type": "code",
      "metadata": {
        "id": "fexUT7Xb2adC"
      },
      "source": [
        ""
      ],
      "execution_count": null,
      "outputs": []
    }
  ]
}