{
  "nbformat": 4,
  "nbformat_minor": 0,
  "metadata": {
    "accelerator": "GPU",
    "colab": {
      "name": "Multilabel_Multiclass_Classification.ipynb",
      "provenance": [],
      "collapsed_sections": []
    },
    "kernelspec": {
      "display_name": "Python 3",
      "name": "python3"
    }
  },
  "cells": [
    {
      "cell_type": "code",
      "metadata": {
        "id": "IIbih5iUdQMm"
      },
      "source": [
        "import nltk\n",
        "import string\n",
        "# nltk.download('all')\n",
        "import re\n",
        "from nltk.corpus import stopwords\n",
        "import numpy as np # linear algebra\n",
        "import pandas as pd\n",
        "import matplotlib.pyplot as plt\n",
        "import keras\n",
        "from keras.layers import Embedding\n",
        "from keras.layers import Dense, Flatten, LSTM, Bidirectional\n",
        "from keras.layers import Input, GlobalMaxPool1D, Dropout\n",
        "from keras.layers import Activation\n",
        "from keras.models import Model, Sequential\n",
        "from keras import optimizers\n",
        "from sklearn.model_selection import train_test_split"
      ],
      "execution_count": null,
      "outputs": []
    },
    {
      "cell_type": "code",
      "metadata": {
        "id": "hPJHQEKCdSM9"
      },
      "source": [
        "BATCH_SIZE  = 2\n",
        "EPOCHS = 3\n",
        "df = pd.read_csv(\"classification.csv\")\n",
        "train, test = train_test_split(df, test_size=0.1, random_state=42)"
      ],
      "execution_count": null,
      "outputs": []
    },
    {
      "cell_type": "code",
      "metadata": {
        "id": "XMtbT51hdZvU"
      },
      "source": [
        "#divide our training data into features X and label Y\n",
        "X_train = train['sentence'] #will be used to train our model on\n",
        "X_test = test['sentence'] #will be used to predict the output labels to see how well our model has trained\n",
        "y_train = train[['Deaths', 'Injury', 'Location', 'Date', 'Time']].values\n",
        "y_test = test[['Deaths', 'Injury', 'Location', 'Date', 'Time']].values"
      ],
      "execution_count": null,
      "outputs": []
    },
    {
      "cell_type": "code",
      "metadata": {
        "id": "6300tTlMq9uc"
      },
      "source": [
        "punct = '!\"#$%&\\'()*+,-./:;<=>?@[\\]^_`{|}~“”'"
      ],
      "execution_count": null,
      "outputs": []
    },
    {
      "cell_type": "markdown",
      "metadata": {
        "id": "difkuSlrddpt"
      },
      "source": [
        "Clean Text"
      ]
    },
    {
      "cell_type": "code",
      "metadata": {
        "id": "N8iavW62dey0"
      },
      "source": [
        "def clean_text(txt):\n",
        "  txt = txt.strip() #remove additional white space before and after end of sentence\n",
        "  # txt = txt.lower()\n",
        "  txt = txt.replace(\"'s\", \"\") # remove apostrophe s\n",
        "  txt = txt.replace(\"\\?a.m.\", \"am\") # replace a.m.\n",
        "  txt = txt.replace(\"\\?p.m.\", \"pm\") # replace p.m.\n",
        "  text = \"\".join([c for c in txt if c not in punct]) #remove punct\n",
        "  text = text.replace(u'\\u2014', \"\")\n",
        "  new_text = text.replace(r\"\\s+\", \" \") #remove additional space\n",
        "\n",
        "  return new_text"
      ],
      "execution_count": null,
      "outputs": []
    },
    {
      "cell_type": "code",
      "metadata": {
        "id": "Yf1SORL7dgqm"
      },
      "source": [
        "#cleans train and test text  \n",
        "x_train, x_test = [], []\n",
        "for sentence in X_train:\n",
        "  x_train.append(clean_text(sentence))\n",
        "\n",
        "for sentence in X_test:\n",
        "  x_test.append(clean_text(sentence))"
      ],
      "execution_count": null,
      "outputs": []
    },
    {
      "cell_type": "code",
      "metadata": {
        "colab": {
          "base_uri": "https://localhost:8080/"
        },
        "id": "RMtnS-sVz5ZZ",
        "outputId": "946f7888-be80-4c92-9ee7-5344db5eaf3e"
      },
      "source": [
        "train_max = max(len(ele) for ele in x_train) \n",
        "train_max"
      ],
      "execution_count": null,
      "outputs": [
        {
          "output_type": "execute_result",
          "data": {
            "text/plain": [
              "320"
            ]
          },
          "metadata": {
            "tags": []
          },
          "execution_count": 8
        }
      ]
    },
    {
      "cell_type": "code",
      "metadata": {
        "colab": {
          "base_uri": "https://localhost:8080/"
        },
        "id": "c7ONKof60P8x",
        "outputId": "f0645ec3-3014-4e3f-e8e9-971dbb6d3eaa"
      },
      "source": [
        "test_max = max(len(ele) for ele in x_test) \n",
        "test_max"
      ],
      "execution_count": null,
      "outputs": [
        {
          "output_type": "execute_result",
          "data": {
            "text/plain": [
              "334"
            ]
          },
          "metadata": {
            "tags": []
          },
          "execution_count": 9
        }
      ]
    },
    {
      "cell_type": "code",
      "metadata": {
        "id": "2c3v7YOEdjX_"
      },
      "source": [
        "from keras.preprocessing.text import Tokenizer\n",
        "#calculate the vocabulary size as well which will be given as an input to the Embedding layer\n",
        "tokens = Tokenizer() \n",
        "tokens.fit_on_texts(x_train)\n",
        "vocab_size = len(tokens.word_index) + 1 #size of the total number of uniques tokens in our dataset\n",
        "tokenized_train = tokens.texts_to_sequences(x_train) #converting our tokens into sequence of integers\n",
        "tokenized_test = tokens.texts_to_sequences(x_test)"
      ],
      "execution_count": null,
      "outputs": []
    },
    {
      "cell_type": "code",
      "metadata": {
        "colab": {
          "base_uri": "https://localhost:8080/"
        },
        "id": "ewZRnfpVdwTU",
        "outputId": "15127815-27db-49af-dda1-d339755229e1"
      },
      "source": [
        "print(x_train[0]) #the first text\n",
        "print(100 * '-')\n",
        "print(tokenized_train[0]) #the correspondin first comment in the vectorized form"
      ],
      "execution_count": null,
      "outputs": [
        {
          "output_type": "stream",
          "text": [
            "The incident happened at Balogu North a suburb of Yendi around 1830GMT on Monday August 31\n",
            "----------------------------------------------------------------------------------------------------\n",
            "[1, 98, 61, 10, 2298, 101, 2, 1487, 4, 1488, 35, 2299, 8, 47, 202, 436]\n"
          ],
          "name": "stdout"
        }
      ]
    },
    {
      "cell_type": "markdown",
      "metadata": {
        "id": "_RiYUlfqdzLr"
      },
      "source": [
        "**Pad Sequences**"
      ]
    },
    {
      "cell_type": "code",
      "metadata": {
        "id": "D6CF0N4cdxvr"
      },
      "source": [
        "from keras.preprocessing.sequence import pad_sequences\n",
        "\n",
        "max_len = 334 #max length of the padded sequence (one of the hyperparameter that can be tuned)\n",
        "padded_train = pad_sequences(tokenized_train, maxlen = max_len, padding = 'post') #post padding our sequences with zeros\n",
        "padded_test = pad_sequences(tokenized_test, maxlen = max_len)"
      ],
      "execution_count": null,
      "outputs": []
    },
    {
      "cell_type": "code",
      "metadata": {
        "colab": {
          "base_uri": "https://localhost:8080/"
        },
        "id": "89llrU2nd97E",
        "outputId": "09415af9-6cbb-4e83-f9f5-00d0e43caf36"
      },
      "source": [
        "padded_train[:10]"
      ],
      "execution_count": null,
      "outputs": [
        {
          "output_type": "execute_result",
          "data": {
            "text/plain": [
              "array([[   1,   98,   61, ...,    0,    0,    0],\n",
              "       [ 569,  235,    9, ...,    0,    0,    0],\n",
              "       [   1,   81,  272, ...,    0,    0,    0],\n",
              "       ...,\n",
              "       [2305, 2306, 2307, ...,    0,    0,    0],\n",
              "       [ 510,  472,  369, ...,    0,    0,    0],\n",
              "       [ 569,  235,  223, ...,    0,    0,    0]], dtype=int32)"
            ]
          },
          "metadata": {
            "tags": []
          },
          "execution_count": 13
        }
      ]
    },
    {
      "cell_type": "markdown",
      "metadata": {
        "id": "HoI_wbjGeWqb"
      },
      "source": [
        "**GLOVE**"
      ]
    },
    {
      "cell_type": "code",
      "metadata": {
        "id": "VGznmFFNeTy9"
      },
      "source": [
        "import numpy as np\n",
        "\n",
        "embedding_dim = 50\n",
        "vocab_size = len(tokens.word_index) + 1  # Adding again 1 because of reserved 0 index\n",
        "embedding_matrix = np.zeros((vocab_size, embedding_dim))\n",
        "\n",
        "with open('/content/drive/MyDrive/FYP/glove.6B.50d.txt', encoding = 'utf-8') as f:\n",
        "    for line in f:\n",
        "        word, *vector = line.split()\n",
        "        if word in tokens.word_index:\n",
        "            idx = tokens.word_index[word] \n",
        "            embedding_matrix[idx] = np.array(vector, dtype=np.float32)[:embedding_dim]"
      ],
      "execution_count": null,
      "outputs": []
    },
    {
      "cell_type": "code",
      "metadata": {
        "colab": {
          "base_uri": "https://localhost:8080/"
        },
        "id": "PpcwFNKaegMz",
        "outputId": "7853eab5-8c91-48e4-eee9-e056cc062b50"
      },
      "source": [
        "model1 = Sequential()\n",
        "model1.add(Embedding(vocab_size, embedding_dim, weights = [embedding_matrix], input_length = max_len, trainable = False))\n",
        "model1.add(LSTM(60, return_sequences = True))\n",
        "model1.add(Activation('relu'))\n",
        "model1.add(GlobalMaxPool1D())\n",
        "model1.add(Dropout(0.1))\n",
        "# model1.add(Dense(120, activation = 'relu'))\n",
        "# model1.add(Dropout(0.001))\n",
        "model1.add(Dense(50, activation = 'relu'))\n",
        "model1.add(Dropout(0.1))\n",
        "model1.add(Dense(5, activation = 'sigmoid'))\n",
        "model1.summary()"
      ],
      "execution_count": null,
      "outputs": [
        {
          "output_type": "stream",
          "text": [
            "Model: \"sequential_1\"\n",
            "_________________________________________________________________\n",
            "Layer (type)                 Output Shape              Param #   \n",
            "=================================================================\n",
            "embedding (Embedding)        (None, 334, 50)           249300    \n",
            "_________________________________________________________________\n",
            "lstm (LSTM)                  (None, 334, 60)           26640     \n",
            "_________________________________________________________________\n",
            "activation (Activation)      (None, 334, 60)           0         \n",
            "_________________________________________________________________\n",
            "global_max_pooling1d (Global (None, 60)                0         \n",
            "_________________________________________________________________\n",
            "dropout (Dropout)            (None, 60)                0         \n",
            "_________________________________________________________________\n",
            "dense (Dense)                (None, 50)                3050      \n",
            "_________________________________________________________________\n",
            "dropout_1 (Dropout)          (None, 50)                0         \n",
            "_________________________________________________________________\n",
            "dense_1 (Dense)              (None, 5)                 255       \n",
            "=================================================================\n",
            "Total params: 279,245\n",
            "Trainable params: 29,945\n",
            "Non-trainable params: 249,300\n",
            "_________________________________________________________________\n"
          ],
          "name": "stdout"
        }
      ]
    },
    {
      "cell_type": "code",
      "metadata": {
        "colab": {
          "base_uri": "https://localhost:8080/"
        },
        "id": "CWPbASHweiVL",
        "outputId": "3febd07c-0558-4b8f-ab45-67a2dfdd05a9"
      },
      "source": [
        "optim = optimizers.Adam(lr = 0.001, decay = 0.01 / 64)\n",
        "model1.compile(loss = 'binary_crossentropy', optimizer = optim, metrics = ['acc'])\n",
        "history1 = model1.fit(padded_train, y_train, epochs = EPOCHS, batch_size = BATCH_SIZE, validation_split = 0.1)"
      ],
      "execution_count": null,
      "outputs": [
        {
          "output_type": "stream",
          "text": [
            "Epoch 1/3\n",
            "852/852 [==============================] - 55s 63ms/step - loss: 0.5796 - acc: 0.3505 - val_loss: 0.3699 - val_acc: 0.5842\n",
            "Epoch 2/3\n",
            "852/852 [==============================] - 53s 62ms/step - loss: 0.3468 - acc: 0.5544 - val_loss: 0.2578 - val_acc: 0.6684\n",
            "Epoch 3/3\n",
            "852/852 [==============================] - 53s 62ms/step - loss: 0.2617 - acc: 0.5953 - val_loss: 0.2188 - val_acc: 0.6474\n"
          ],
          "name": "stdout"
        }
      ]
    },
    {
      "cell_type": "code",
      "metadata": {
        "id": "lLY-oEsUejUk",
        "colab": {
          "base_uri": "https://localhost:8080/"
        },
        "outputId": "e4ac48c8-61ae-47fe-a484-dbcccb2b048c"
      },
      "source": [
        "max(history1.history['acc'])"
      ],
      "execution_count": null,
      "outputs": [
        {
          "output_type": "execute_result",
          "data": {
            "text/plain": [
              "0.6024662256240845"
            ]
          },
          "metadata": {
            "tags": []
          },
          "execution_count": 40
        }
      ]
    },
    {
      "cell_type": "code",
      "metadata": {
        "id": "l363YGiyeldc",
        "colab": {
          "base_uri": "https://localhost:8080/"
        },
        "outputId": "2d4e1d31-9956-4891-cacc-a6bb1af096b9"
      },
      "source": [
        "max(history1.history['val_acc'])"
      ],
      "execution_count": null,
      "outputs": [
        {
          "output_type": "execute_result",
          "data": {
            "text/plain": [
              "0.6684210300445557"
            ]
          },
          "metadata": {
            "tags": []
          },
          "execution_count": 41
        }
      ]
    },
    {
      "cell_type": "code",
      "metadata": {
        "id": "cMlPJFfLen8k",
        "colab": {
          "base_uri": "https://localhost:8080/",
          "height": 295
        },
        "outputId": "e04a2f0d-9166-42cc-a7ee-729b9f2aecd8"
      },
      "source": [
        "plt.plot(history1.history['acc'])\n",
        "plt.plot(history1.history['val_acc'])\n",
        "plt.title('model acc')\n",
        "plt.ylabel('acc')\n",
        "plt.xlabel('epoch')\n",
        "plt.legend(['train', 'val'], loc='upper left')\n",
        "plt.show()"
      ],
      "execution_count": null,
      "outputs": [
        {
          "output_type": "display_data",
          "data": {
            "image/png": "[encoded data removed]",
            "text/plain": [
              "<Figure size 432x288 with 1 Axes>"
            ]
          },
          "metadata": {
            "tags": [],
            "needs_background": "light"
          }
        }
      ]
    },
    {
      "cell_type": "code",
      "metadata": {
        "id": "01ejcpp7eovV",
        "colab": {
          "base_uri": "https://localhost:8080/",
          "height": 295
        },
        "outputId": "3bc1a1b2-c2e4-4ed0-f5bf-7e7cce69af16"
      },
      "source": [
        "plt.plot(history1.history['loss'])\n",
        "plt.plot(history1.history['val_loss'])\n",
        "plt.title('model loss')\n",
        "plt.ylabel('loss')\n",
        "plt.xlabel('epoch')\n",
        "plt.legend(['train', 'val'], loc='upper left')\n",
        "plt.show()"
      ],
      "execution_count": null,
      "outputs": [
        {
          "output_type": "display_data",
          "data": {
            "image/png": "[encoded data removed]",
            "text/plain": [
              "<Figure size 432x288 with 1 Axes>"
            ]
          },
          "metadata": {
            "tags": [],
            "needs_background": "light"
          }
        }
      ]
    },
    {
      "cell_type": "code",
      "metadata": {
        "id": "9dy2FV_oerhL",
        "colab": {
          "base_uri": "https://localhost:8080/"
        },
        "outputId": "b32e289a-562c-4ebe-efab-ca462a206501"
      },
      "source": [
        "# Evaluate the model on the test data using `evaluate`\n",
        "print(\"Evaluate on test data\")\n",
        "results = model1.evaluate(padded_test, y_test, batch_size=BATCH_SIZE)\n",
        "print(\"test loss, test acc:\", results)"
      ],
      "execution_count": null,
      "outputs": [
        {
          "output_type": "stream",
          "text": [
            "Evaluate on test data\n",
            "106/106 [==============================] - 3s 23ms/step - loss: 0.2220 - acc: 0.6256\n",
            "test loss, test acc: [0.2219824343919754, 0.6255924105644226]\n"
          ],
          "name": "stdout"
        }
      ]
    },
    {
      "cell_type": "code",
      "metadata": {
        "id": "G3w7_48FetH9",
        "colab": {
          "base_uri": "https://localhost:8080/"
        },
        "outputId": "b62a89a1-ff9a-472f-b6fb-57e845371e47"
      },
      "source": [
        "# Generate predictions (probabilities -- the output of the last layer)\n",
        "# on new data using `predict`\n",
        "print(\"Generate predictions for 3 samples\")\n",
        "predictions1 = model1.predict(padded_test)\n",
        "print(\"predictions shape:\", predictions1.shape)\n",
        "print(\"predictions shape:\\n\", predictions1[1:5])"
      ],
      "execution_count": null,
      "outputs": [
        {
          "output_type": "stream",
          "text": [
            "Generate predictions for 3 samples\n",
            "predictions shape: (211, 5)\n",
            "predictions shape:\n",
            " [[0.08111583 0.9048571  0.14716598 0.02511542 0.02606146]\n",
            " [0.03075166 0.97455376 0.21217941 0.00605354 0.00622698]\n",
            " [0.01131309 0.08276746 0.8451115  0.32128614 0.96142685]\n",
            " [0.00418187 0.02852652 0.98779863 0.53050625 0.98703164]]\n"
          ],
          "name": "stdout"
        }
      ]
    },
    {
      "cell_type": "code",
      "metadata": {
        "id": "SPLW1bPqeux0",
        "colab": {
          "base_uri": "https://localhost:8080/"
        },
        "outputId": "59156616-847f-4dbd-8809-01beb865128f"
      },
      "source": [
        "y_test[1:5]"
      ],
      "execution_count": null,
      "outputs": [
        {
          "output_type": "execute_result",
          "data": {
            "text/plain": [
              "array([[0, 1, 0, 0, 0],\n",
              "       [0, 1, 0, 0, 0],\n",
              "       [0, 0, 1, 1, 1],\n",
              "       [0, 0, 1, 1, 1]])"
            ]
          },
          "metadata": {
            "tags": []
          },
          "execution_count": 46
        }
      ]
    },
    {
      "cell_type": "code",
      "metadata": {
        "colab": {
          "base_uri": "https://localhost:8080/"
        },
        "id": "BgJI9bVDad81",
        "outputId": "320bf9c6-20e2-4da9-e3bc-f79139123158"
      },
      "source": [
        "from sklearn.metrics import classification_report\n",
        "from sklearn.metrics import f1_score\n",
        "from sklearn.metrics import roc_auc_score\n",
        "print (\"Batch Size: \", BATCH_SIZE)\n",
        "print (\"LSTM Classification report: \\n\", (classification_report(y_test, predictions1.round())))\n",
        "print (\"F1 micro averaging:\",(f1_score(y_test, predictions1.round(), average='micro')))"
      ],
      "execution_count": null,
      "outputs": [
        {
          "output_type": "stream",
          "text": [
            "Batch Size:  2\n",
            "LSTM Classification report: \n",
            "               precision    recall  f1-score   support\n",
            "\n",
            "           0       0.99      0.85      0.91        80\n",
            "           1       0.82      0.87      0.84        91\n",
            "           2       0.88      0.94      0.91       112\n",
            "           3       0.94      0.87      0.91        71\n",
            "           4       0.93      0.93      0.93        61\n",
            "\n",
            "   micro avg       0.90      0.89      0.90       415\n",
            "   macro avg       0.91      0.89      0.90       415\n",
            "weighted avg       0.90      0.89      0.90       415\n",
            " samples avg       0.89      0.89      0.88       415\n",
            "\n",
            "F1 micro averaging: 0.8972188633615478\n"
          ],
          "name": "stdout"
        },
        {
          "output_type": "stream",
          "text": [
            "/usr/local/lib/python3.7/dist-packages/sklearn/metrics/_classification.py:1272: UndefinedMetricWarning: Precision and F-score are ill-defined and being set to 0.0 in samples with no predicted labels. Use `zero_division` parameter to control this behavior.\n",
            "  _warn_prf(average, modifier, msg_start, len(result))\n",
            "/usr/local/lib/python3.7/dist-packages/sklearn/metrics/_classification.py:1272: UndefinedMetricWarning: Recall and F-score are ill-defined and being set to 0.0 in samples with no true labels. Use `zero_division` parameter to control this behavior.\n",
            "  _warn_prf(average, modifier, msg_start, len(result))\n"
          ],
          "name": "stderr"
        }
      ]
    },
    {
      "cell_type": "code",
      "metadata": {
        "colab": {
          "base_uri": "https://localhost:8080/",
          "height": 1000
        },
        "id": "EovD-5GFhob2",
        "outputId": "6a3d8d00-bd98-4c53-dea3-795c1fb117f7"
      },
      "source": [
        "from sklearn.metrics import multilabel_confusion_matrix\n",
        "vis_arr = np.asarray(multilabel_confusion_matrix(y_test, predictions1.round()))\n",
        "labels = ['Deaths', 'Injury', 'Location', 'Date', 'Time']\n",
        "# import pandas as pd\n",
        "# import matplotlib.pyplot as plt\n",
        "import seaborn as sns\n",
        "\n",
        "\n",
        "def print_confusion_matrix(confusion_matrix, axes, class_label, class_names, fontsize=14):\n",
        "\n",
        "    df_cm = pd.DataFrame(\n",
        "        confusion_matrix, index=class_names, columns=class_names,\n",
        "    )\n",
        "\n",
        "    try:\n",
        "        heatmap = sns.heatmap(df_cm, annot=True, fmt=\"d\", cbar=False, ax=axes)\n",
        "    except ValueError:\n",
        "        raise ValueError(\"Confusion matrix values must be integers.\")\n",
        "    heatmap.yaxis.set_ticklabels(heatmap.yaxis.get_ticklabels(), rotation=0, ha='right', fontsize=fontsize)\n",
        "    heatmap.xaxis.set_ticklabels(heatmap.xaxis.get_ticklabels(), rotation=0, ha='right', fontsize=fontsize)\n",
        "    axes.set_ylabel('True label')\n",
        "    axes.set_xlabel('Predicted label')\n",
        "    axes.set_title(\"Confusion Matrix for the class - \" + class_label)\n",
        "\n",
        "fig, ax = plt.subplots(5, 1, figsize=(5, 20))\n",
        "    \n",
        "for axes, cfs_matrix, label in zip(ax.flatten(), vis_arr, labels):\n",
        "    print_confusion_matrix(cfs_matrix, axes, label, [\"N\", \"Y\"])\n",
        "\n",
        "fig.tight_layout()\n",
        "plt.show()"
      ],
      "execution_count": null,
      "outputs": [
        {
          "output_type": "display_data",
          "data": {
            "image/png": "[encoded data removed]",
            "text/plain": [
              "<Figure size 360x1440 with 5 Axes>"
            ]
          },
          "metadata": {
            "tags": [],
            "needs_background": "light"
          }
        }
      ]
    },
    {
      "cell_type": "code",
      "metadata": {
        "id": "pbDjZ5WwrnnM"
      },
      "source": [
        "# model1.save_weights('multi_lstm_B02_03.h5')"
      ],
      "execution_count": null,
      "outputs": []
    },
    {
      "cell_type": "markdown",
      "metadata": {
        "id": "22C4Rrol2dSQ"
      },
      "source": [
        "**GLOVE- BILSTM**"
      ]
    },
    {
      "cell_type": "code",
      "metadata": {
        "id": "lXN7i3j7-qbo",
        "colab": {
          "base_uri": "https://localhost:8080/"
        },
        "outputId": "057046e0-1ba7-4506-b6d0-af6ba656bbf5"
      },
      "source": [
        "model2 = Sequential()\n",
        "model2.add(Embedding(vocab_size, embedding_dim, weights = [embedding_matrix], input_length = max_len, trainable = False))\n",
        "model2.add(Bidirectional(LSTM(60, return_sequences = True)))\n",
        "model2.add(Activation('relu'))\n",
        "model2.add(GlobalMaxPool1D())\n",
        "model2.add(Dropout(0.1))\n",
        "# model2.add(Dense(150, activation = 'relu'))\n",
        "# model2.add(Dropout(0.1))\n",
        "model2.add(Dense(120, activation = 'relu'))\n",
        "model2.add(Dropout(0.1))\n",
        "model2.add(Dense(50, activation = 'relu'))\n",
        "model2.add(Dropout(0.1))\n",
        "model2.add(Dense(5, activation = 'sigmoid'))\n",
        "model2.summary()"
      ],
      "execution_count": null,
      "outputs": [
        {
          "output_type": "stream",
          "text": [
            "Model: \"sequential_2\"\n",
            "_________________________________________________________________\n",
            "Layer (type)                 Output Shape              Param #   \n",
            "=================================================================\n",
            "embedding_1 (Embedding)      (None, 334, 50)           249300    \n",
            "_________________________________________________________________\n",
            "bidirectional (Bidirectional (None, 334, 120)          53280     \n",
            "_________________________________________________________________\n",
            "activation_1 (Activation)    (None, 334, 120)          0         \n",
            "_________________________________________________________________\n",
            "global_max_pooling1d_1 (Glob (None, 120)               0         \n",
            "_________________________________________________________________\n",
            "dropout_2 (Dropout)          (None, 120)               0         \n",
            "_________________________________________________________________\n",
            "dense_2 (Dense)              (None, 120)               14520     \n",
            "_________________________________________________________________\n",
            "dropout_3 (Dropout)          (None, 120)               0         \n",
            "_________________________________________________________________\n",
            "dense_3 (Dense)              (None, 50)                6050      \n",
            "_________________________________________________________________\n",
            "dropout_4 (Dropout)          (None, 50)                0         \n",
            "_________________________________________________________________\n",
            "dense_4 (Dense)              (None, 5)                 255       \n",
            "=================================================================\n",
            "Total params: 323,405\n",
            "Trainable params: 74,105\n",
            "Non-trainable params: 249,300\n",
            "_________________________________________________________________\n"
          ],
          "name": "stdout"
        }
      ]
    },
    {
      "cell_type": "code",
      "metadata": {
        "colab": {
          "base_uri": "https://localhost:8080/"
        },
        "id": "o_m-vh6z2jxs",
        "outputId": "cd5195e4-f4f4-4804-caaa-6c2c77b3fa9b"
      },
      "source": [
        "optim = optimizers.Adam(lr = 0.001, decay = 0.01 / 64)\n",
        "model2.compile(loss = 'binary_crossentropy', optimizer = optim, metrics = ['acc'])\n",
        "history2 = model2.fit(padded_train, y_train, epochs =EPOCHS, batch_size = BATCH_SIZE, validation_split = 0.1)"
      ],
      "execution_count": null,
      "outputs": [
        {
          "output_type": "stream",
          "text": [
            "Epoch 1/3\n",
            "852/852 [==============================] - 108s 122ms/step - loss: 0.5603 - acc: 0.3855 - val_loss: 0.2995 - val_acc: 0.5684\n",
            "Epoch 2/3\n",
            "852/852 [==============================] - 103s 120ms/step - loss: 0.2868 - acc: 0.5848 - val_loss: 0.2479 - val_acc: 0.6263\n",
            "Epoch 3/3\n",
            "852/852 [==============================] - 103s 121ms/step - loss: 0.2163 - acc: 0.6280 - val_loss: 0.2244 - val_acc: 0.6526\n"
          ],
          "name": "stdout"
        }
      ]
    },
    {
      "cell_type": "code",
      "metadata": {
        "colab": {
          "base_uri": "https://localhost:8080/"
        },
        "id": "mv5dOJOe2pUr",
        "outputId": "1853481d-1ef4-408b-d5ae-ebcd13049f8b"
      },
      "source": [
        "max(history2.history['acc'])"
      ],
      "execution_count": null,
      "outputs": [
        {
          "output_type": "execute_result",
          "data": {
            "text/plain": [
              "0.6065766215324402"
            ]
          },
          "metadata": {
            "tags": []
          },
          "execution_count": 28
        }
      ]
    },
    {
      "cell_type": "code",
      "metadata": {
        "colab": {
          "base_uri": "https://localhost:8080/"
        },
        "id": "-rEGcloZ3EzW",
        "outputId": "f3cadcda-3edd-415b-b2bd-f72c21de1e18"
      },
      "source": [
        "max(history2.history['val_acc'])"
      ],
      "execution_count": null,
      "outputs": [
        {
          "output_type": "execute_result",
          "data": {
            "text/plain": [
              "0.6526315808296204"
            ]
          },
          "metadata": {
            "tags": []
          },
          "execution_count": 29
        }
      ]
    },
    {
      "cell_type": "code",
      "metadata": {
        "colab": {
          "base_uri": "https://localhost:8080/",
          "height": 295
        },
        "id": "FZaMSdXV3I2O",
        "outputId": "e5253810-be48-413e-c4a7-93330b5c6167"
      },
      "source": [
        "plt.plot(history2.history['acc'])\n",
        "plt.plot(history2.history['val_acc'])\n",
        "plt.title('model acc')\n",
        "plt.ylabel('acc')\n",
        "plt.xlabel('epoch')\n",
        "plt.legend(['train', 'val'], loc='upper left')\n",
        "plt.show()"
      ],
      "execution_count": null,
      "outputs": [
        {
          "output_type": "display_data",
          "data": {
            "image/png": "[encoded data removed]",
            "text/plain": [
              "<Figure size 432x288 with 1 Axes>"
            ]
          },
          "metadata": {
            "tags": [],
            "needs_background": "light"
          }
        }
      ]
    },
    {
      "cell_type": "code",
      "metadata": {
        "colab": {
          "base_uri": "https://localhost:8080/",
          "height": 295
        },
        "id": "IeuWtBd-3Kx2",
        "outputId": "c68465d9-e9ac-4cb1-cb38-127db45789ad"
      },
      "source": [
        "plt.plot(history2.history['loss'])\n",
        "plt.plot(history2.history['val_loss'])\n",
        "plt.title('model loss')\n",
        "plt.ylabel('loss')\n",
        "plt.xlabel('epoch')\n",
        "plt.legend(['train', 'val'], loc='upper left')\n",
        "plt.show()"
      ],
      "execution_count": null,
      "outputs": [
        {
          "output_type": "display_data",
          "data": {
            "image/png": "[encoded data removed]",
            "text/plain": [
              "<Figure size 432x288 with 1 Axes>"
            ]
          },
          "metadata": {
            "tags": [],
            "needs_background": "light"
          }
        }
      ]
    },
    {
      "cell_type": "code",
      "metadata": {
        "colab": {
          "base_uri": "https://localhost:8080/"
        },
        "id": "OyC7P6KW3LQ6",
        "outputId": "9aee790c-1ac9-4acf-8649-4e7adf98a367"
      },
      "source": [
        "# Evaluate the model on the test data using `evaluate`\n",
        "print(\"Evaluate on test data\")\n",
        "results = model2.evaluate(padded_test, y_test, batch_size=BATCH_SIZE)\n",
        "print(\"test loss, test acc:\", results)"
      ],
      "execution_count": null,
      "outputs": [
        {
          "output_type": "stream",
          "text": [
            "Evaluate on test data\n",
            "106/106 [==============================] - 6s 44ms/step - loss: 0.1823 - acc: 0.6445\n",
            "test loss, test acc: [0.18227626383304596, 0.6445497870445251]\n"
          ],
          "name": "stdout"
        }
      ]
    },
    {
      "cell_type": "code",
      "metadata": {
        "colab": {
          "base_uri": "https://localhost:8080/"
        },
        "id": "NUB7aMbr3NgH",
        "outputId": "84505b9f-7303-43f1-b44a-92a61f1852af"
      },
      "source": [
        "# Generate predictions (probabilities -- the output of the last layer)\n",
        "# on new data using `predict`\n",
        "print(\"Generate predictions for 3 samples\")\n",
        "predictions2 = model2.predict(padded_test)\n",
        "print(\"predictions shape:\", predictions2.shape)\n",
        "print(\"predictions shape:\\n\", predictions2[1:5])"
      ],
      "execution_count": null,
      "outputs": [
        {
          "output_type": "stream",
          "text": [
            "Generate predictions for 3 samples\n",
            "predictions shape: (211, 5)\n",
            "predictions shape:\n",
            " [[0.05847296 0.9144637  0.05261112 0.0223624  0.01187523]\n",
            " [0.02250565 0.96724856 0.04741941 0.002111   0.00214842]\n",
            " [0.01338511 0.05317337 0.6813898  0.97386646 0.98895395]\n",
            " [0.00379547 0.00584594 0.9979798  0.26699764 0.993616  ]]\n"
          ],
          "name": "stdout"
        }
      ]
    },
    {
      "cell_type": "code",
      "metadata": {
        "colab": {
          "base_uri": "https://localhost:8080/"
        },
        "id": "oj7BtLTk4EeN",
        "outputId": "fee8b413-53cf-4274-eee1-b4fd56680420"
      },
      "source": [
        "y_test[1:5]"
      ],
      "execution_count": null,
      "outputs": [
        {
          "output_type": "execute_result",
          "data": {
            "text/plain": [
              "array([[0, 1, 0, 0, 0],\n",
              "       [0, 1, 0, 0, 0],\n",
              "       [0, 0, 1, 1, 1],\n",
              "       [0, 0, 1, 1, 1]])"
            ]
          },
          "metadata": {
            "tags": []
          },
          "execution_count": 34
        }
      ]
    },
    {
      "cell_type": "code",
      "metadata": {
        "colab": {
          "base_uri": "https://localhost:8080/"
        },
        "id": "DMOb2ESBYz5l",
        "outputId": "6a0f90f0-688c-4c85-cf9d-98c7ed43b7af"
      },
      "source": [
        "print (\"Batch Size: \", BATCH_SIZE)\n",
        "print (\"BiLSTM Classification report: \\n\", (classification_report(y_test, predictions2.round())))\n",
        "print (\"F1 micro averaging:\",(f1_score(y_test, predictions2.round(), average='micro')))"
      ],
      "execution_count": null,
      "outputs": [
        {
          "output_type": "stream",
          "text": [
            "Batch Size:  2\n",
            "BiLSTM Classification report: \n",
            "               precision    recall  f1-score   support\n",
            "\n",
            "           0       0.94      0.95      0.94        80\n",
            "           1       0.93      0.75      0.83        91\n",
            "           2       0.89      0.90      0.89       112\n",
            "           3       0.93      0.99      0.96        71\n",
            "           4       0.94      1.00      0.97        61\n",
            "\n",
            "   micro avg       0.92      0.91      0.91       415\n",
            "   macro avg       0.93      0.92      0.92       415\n",
            "weighted avg       0.92      0.91      0.91       415\n",
            " samples avg       0.91      0.90      0.89       415\n",
            "\n",
            "F1 micro averaging: 0.913730255164034\n"
          ],
          "name": "stdout"
        },
        {
          "output_type": "stream",
          "text": [
            "/usr/local/lib/python3.7/dist-packages/sklearn/metrics/_classification.py:1272: UndefinedMetricWarning: Precision and F-score are ill-defined and being set to 0.0 in samples with no predicted labels. Use `zero_division` parameter to control this behavior.\n",
            "  _warn_prf(average, modifier, msg_start, len(result))\n",
            "/usr/local/lib/python3.7/dist-packages/sklearn/metrics/_classification.py:1272: UndefinedMetricWarning: Recall and F-score are ill-defined and being set to 0.0 in samples with no true labels. Use `zero_division` parameter to control this behavior.\n",
            "  _warn_prf(average, modifier, msg_start, len(result))\n"
          ],
          "name": "stderr"
        }
      ]
    },
    {
      "cell_type": "code",
      "metadata": {
        "id": "_M8utuqtn2zm",
        "colab": {
          "base_uri": "https://localhost:8080/",
          "height": 1000
        },
        "outputId": "f9b4baf5-55c8-4e58-dd9c-e61eec0bddcc"
      },
      "source": [
        "from sklearn.metrics import multilabel_confusion_matrix\n",
        "vis_arr2 = np.asarray(multilabel_confusion_matrix(y_test, predictions2.round()))\n",
        "labels = ['Deaths', 'Injury', 'Location', 'Date', 'Time']\n",
        "# import pandas as pd\n",
        "# import matplotlib.pyplot as plt\n",
        "import seaborn as sns\n",
        "\n",
        "\n",
        "def print_confusion_matrix(confusion_matrix, axes, class_label, class_names, fontsize=14):\n",
        "\n",
        "    df_cm = pd.DataFrame(\n",
        "        confusion_matrix, index=class_names, columns=class_names,\n",
        "    )\n",
        "\n",
        "    try:\n",
        "        heatmap = sns.heatmap(df_cm, annot=True, fmt=\"d\", cbar=False, ax=axes)\n",
        "    except ValueError:\n",
        "        raise ValueError(\"Confusion matrix values must be integers.\")\n",
        "    heatmap.yaxis.set_ticklabels(heatmap.yaxis.get_ticklabels(), rotation=0, ha='right', fontsize=fontsize)\n",
        "    heatmap.xaxis.set_ticklabels(heatmap.xaxis.get_ticklabels(), rotation=0, ha='right', fontsize=fontsize)\n",
        "    axes.set_ylabel('True label')\n",
        "    axes.set_xlabel('Predicted label')\n",
        "    axes.set_title(\"Confusion Matrix for the class - \" + class_label)\n",
        "\n",
        "fig, ax = plt.subplots(5, 1, figsize=(5, 20))\n",
        "    \n",
        "for axes, cfs_matrix, label in zip(ax.flatten(), vis_arr2, labels):\n",
        "    print_confusion_matrix(cfs_matrix, axes, label, [\"N\", \"Y\"])\n",
        "\n",
        "fig.tight_layout()\n",
        "plt.show()"
      ],
      "execution_count": null,
      "outputs": [
        {
          "output_type": "display_data",
          "data": {
            "image/png": "[encoded data removed]",
            "text/plain": [
              "<Figure size 360x1440 with 5 Axes>"
            ]
          },
          "metadata": {
            "tags": [],
            "needs_background": "light"
          }
        }
      ]
    },
    {
      "cell_type": "code",
      "metadata": {
        "id": "IDP4jIJt4Oob"
      },
      "source": [
        "# model2.save_weights('multi_bilstm_B02_03.h5')"
      ],
      "execution_count": null,
      "outputs": []
    },
    {
      "cell_type": "code",
      "metadata": {
        "id": "0-B2cCyisetL"
      },
      "source": [
        ""
      ],
      "execution_count": null,
      "outputs": []
    }
  ]
}